{
 "cells": [
  {
   "cell_type": "code",
   "execution_count": 2,
   "id": "initial_id",
   "metadata": {
    "collapsed": true,
    "ExecuteTime": {
     "end_time": "2024-05-26T14:22:00.826506Z",
     "start_time": "2024-05-26T14:22:00.806560Z"
    }
   },
   "outputs": [],
   "source": [
    "import matplotlib.pyplot as plt\n",
    "import numpy as np\n",
    "\n",
    "from skimage import data\n",
    "from skimage.data import astronaut\n",
    "from skimage.color import rgb2gray\n",
    "from skimage.filters import sobel\n",
    "from skimage.segmentation import felzenszwalb, slic, quickshift, watershed, flood\n",
    "from skimage.segmentation import mark_boundaries\n",
    "from skimage.util import img_as_float\n",
    "import glob\n",
    "from PIL import Image\n",
    "from skimage.measure import regionprops\n",
    "import cv2\n",
    "import pickle\n",
    "import os\n",
    "import scipy\n",
    "\n",
    "def load_pkl(p):\n",
    "    with open(p, \"rb\") as f:\n",
    "        res = pickle.load(f)\n",
    "    return res\n",
    "\n",
    "def save_pkl(obj, p):\n",
    "    with open(p, \"wb\") as f:\n",
    "        pickle.dump(obj, f)"
   ]
  },
  {
   "cell_type": "markdown",
   "source": [
    "### AWA2"
   ],
   "metadata": {
    "collapsed": false
   },
   "id": "a827bda319c1bef7"
  },
  {
   "cell_type": "code",
   "execution_count": 3,
   "outputs": [],
   "source": [
    "imagename2bbox = load_pkl('data/AWA2/imagename2bbox.pkl')\n",
    "pretrained_imagename2bbox = load_pkl('data/AWA2/pretrained_imagename2bbox.pkl')\n",
    "metadata = load_pkl('data/AWA2/meta_data.pkl')\n",
    "attr_split = scipy.io.loadmat('data/AWA2/att_splits.mat')"
   ],
   "metadata": {
    "collapsed": false,
    "ExecuteTime": {
     "end_time": "2024-05-26T14:22:46.987532500Z",
     "start_time": "2024-05-26T14:22:40.543358500Z"
    }
   },
   "id": "6bcaa4ee9e4743f8"
  },
  {
   "cell_type": "code",
   "execution_count": 4,
   "outputs": [
    {
     "data": {
      "text/plain": "37322"
     },
     "execution_count": 4,
     "metadata": {},
     "output_type": "execute_result"
    }
   ],
   "source": [
    "5882 + 7913 + 23527"
   ],
   "metadata": {
    "collapsed": false,
    "ExecuteTime": {
     "end_time": "2024-05-26T14:23:30.865818500Z",
     "start_time": "2024-05-26T14:23:30.841882Z"
    }
   },
   "id": "b759f02f33e70da6"
  },
  {
   "cell_type": "code",
   "execution_count": 3,
   "outputs": [],
   "source": [
    "100 "
   ],
   "metadata": {
    "collapsed": false,
    "ExecuteTime": {
     "end_time": "2024-05-26T14:22:46.987532500Z",
     "start_time": "2024-05-26T14:22:46.930684700Z"
    }
   },
   "id": "26e819c10e897b07"
  },
  {
   "cell_type": "code",
   "execution_count": 3,
   "outputs": [],
   "source": [],
   "metadata": {
    "collapsed": false,
    "ExecuteTime": {
     "end_time": "2024-05-26T14:22:46.987532500Z",
     "start_time": "2024-05-26T14:22:46.947638500Z"
    }
   },
   "id": "a7980e51b28e18e6"
  },
  {
   "cell_type": "code",
   "execution_count": 3,
   "outputs": [],
   "source": [],
   "metadata": {
    "collapsed": false,
    "ExecuteTime": {
     "end_time": "2024-05-26T14:22:46.987532500Z",
     "start_time": "2024-05-26T14:22:46.962599300Z"
    }
   },
   "id": "4a740b0088ed8c21"
  },
  {
   "cell_type": "code",
   "execution_count": 3,
   "outputs": [],
   "source": [],
   "metadata": {
    "collapsed": false,
    "ExecuteTime": {
     "end_time": "2024-05-26T14:22:47.020478700Z",
     "start_time": "2024-05-26T14:22:46.978556700Z"
    }
   },
   "id": "b3802f531947b439"
  },
  {
   "cell_type": "code",
   "execution_count": 3,
   "outputs": [],
   "source": [],
   "metadata": {
    "collapsed": false,
    "ExecuteTime": {
     "end_time": "2024-05-26T14:22:47.021469300Z",
     "start_time": "2024-05-26T14:22:47.007481Z"
    }
   },
   "id": "c01d18d0583153b6"
  },
  {
   "cell_type": "code",
   "execution_count": 1,
   "outputs": [],
   "source": [],
   "metadata": {
    "collapsed": false,
    "ExecuteTime": {
     "end_time": "2024-05-26T14:19:39.404860700Z",
     "start_time": "2024-05-26T14:19:39.387905800Z"
    }
   },
   "id": "8d2c19a59649905f"
  },
  {
   "cell_type": "code",
   "execution_count": null,
   "outputs": [],
   "source": [],
   "metadata": {
    "collapsed": false
   },
   "id": "ab8ccab3a86684ee"
  }
 ],
 "metadata": {
  "kernelspec": {
   "display_name": "Python 3",
   "language": "python",
   "name": "python3"
  },
  "language_info": {
   "codemirror_mode": {
    "name": "ipython",
    "version": 2
   },
   "file_extension": ".py",
   "mimetype": "text/x-python",
   "name": "python",
   "nbconvert_exporter": "python",
   "pygments_lexer": "ipython2",
   "version": "2.7.6"
  }
 },
 "nbformat": 4,
 "nbformat_minor": 5
}
